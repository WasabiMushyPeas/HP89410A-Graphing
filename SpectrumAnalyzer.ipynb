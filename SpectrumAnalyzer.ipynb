{
 "cells": [
  {
   "cell_type": "markdown",
   "metadata": {},
   "source": [
    "# Single Graph Data Collection"
   ]
  },
  {
   "cell_type": "markdown",
   "metadata": {},
   "source": [
    "## Imports"
   ]
  },
  {
   "cell_type": "code",
   "execution_count": 1,
   "metadata": {},
   "outputs": [],
   "source": [
    "import numpy as np\n",
    "import matplotlib.pyplot as plt\n",
    "import pyvisa as visa\n",
    "import struct \n",
    "import re\n",
    "import time"
   ]
  },
  {
   "cell_type": "markdown",
   "metadata": {},
   "source": [
    "## Get Data"
   ]
  },
  {
   "cell_type": "code",
   "execution_count": 2,
   "metadata": {},
   "outputs": [
    {
     "data": {
      "text/plain": [
       "('ASRL4::INSTR', 'GPIB0::19::INSTR')"
      ]
     },
     "execution_count": 2,
     "metadata": {},
     "output_type": "execute_result"
    }
   ],
   "source": [
    "# This will list the address of the spectrum analyzer if it is connected to the computer\n",
    "visa.ResourceManager().list_resources() "
   ]
  },
  {
   "cell_type": "code",
   "execution_count": 3,
   "metadata": {},
   "outputs": [],
   "source": [
    "all_data = []\n",
    "plots = 2;\n",
    "current_plot = 1;"
   ]
  },
  {
   "cell_type": "code",
   "execution_count": 4,
   "metadata": {},
   "outputs": [],
   "source": [
    "#Function to Open connection\n",
    "def set_fftconnect(key):\n",
    "    rm = visa.ResourceManager()\n",
    "    conn = rm.open_resource(key)\n",
    "    conn.write_termination = chr(10)\n",
    "    return conn\n",
    "\n",
    "#byte reader function\n",
    "def fft_byte_reader(arr):\n",
    "    temp1 = re.findall(b'#[0-9]', arr)\n",
    "    offset = int(temp1[0][1:])\n",
    "    split_result = re.split(b'#[0-9]', arr, maxsplit = 1)[1]\n",
    "    data = split_result[offset:-1]\n",
    "    i = 1\n",
    "    ret = []\n",
    "    while i <= (len(data)/4):   \n",
    "        fval = struct.unpack('>f', data[4*(i-1):(4*i)])\n",
    "        ret.append(fval)\n",
    "        i += 1\n",
    "    return ret    \n",
    "\n",
    "#byte reader function\n",
    "def fft_byte_reader2(arr):\n",
    "    temp1 = re.findall('#[0-9]', arr)\n",
    "    offset = int(temp1[0][1:])\n",
    "    split_result = re.split('#[0-9]', arr)[1]\n",
    "    data = split_result[offset:-1]\n",
    "    i = 1\n",
    "    ret = []\n",
    "    while i <= (len(data)/4):   \n",
    "        fval = struct.unpack('>f', data[4*(i-1):(4*i)])\n",
    "        ret.append(fval)\n",
    "        i += 1\n",
    "    return ret   \n",
    "\n",
    "#Function to Get RF Range\n",
    "def fft_set_range(conn, cent, span):\n",
    "    conn.write(\"SENS:FREQ:CENT \"+cent)\n",
    "    conn.write(\"SENS:FREQ:SPAN \"+span)\n",
    "\n",
    "#function To Get PSD\n",
    "def fft_getPSD(conn):\n",
    "    conn.write(\"CONT\")    \n",
    "    print(f\"Averaging {n_avgs}:\", end=' ')\n",
    "    while fft.query_ascii_values('SENS:AVER:COUNT:INT?')[0] < n_avgs:\n",
    "        print(f\"{fft.query_ascii_values('SENS:AVER:COUNT:INT?')[0]:.0f}\", end=' ')\n",
    "        time.sleep(3)\n",
    "    conn.write(\";:FORM REAL, 32;:CALC1:DATA?\")\n",
    "    rv = conn.read_raw()\n",
    "    yaxis = fft_byte_reader(rv)\n",
    "    conn.write(\";:FORM ASC, 10\")\n",
    "    conn.write(\";:FORM REAL, 32;:TRAC:X? TRAC1\")\n",
    "    rx = conn.read_raw()\n",
    "    xaxis = fft_byte_reader(rx)\n",
    "    conn.write(\";:FORM ASC, 10\")\n",
    "    \n",
    "    if len(xaxis) == 2049:\n",
    "        xaxis=xaxis[0:1601]\n",
    "    else:\n",
    "        xaxis = xaxis[224:1825]\n",
    "    \n",
    "    t1 = np.matrix(xaxis)\n",
    "    t2 = np.matrix(yaxis)\n",
    "    print(f\"Recvd PSD: X: {np.shape(t1)}, Y: {np.shape(t2)}\", end=' ')\n",
    "    t1 = t1.flatten()\n",
    "    t1 = t1.transpose()\n",
    "    t2 = t2.flatten() \n",
    "    t2 = t2.transpose()\n",
    "    vals = np.array(np.hstack((t1,t2)))\n",
    "    return vals"
   ]
  },
  {
   "cell_type": "code",
   "execution_count": 5,
   "metadata": {},
   "outputs": [],
   "source": [
    "# Initialize the spectrum analyzer\n",
    "\n",
    "# This is the address of the spectrum analyzer (you my need to change this)\n",
    "fftkey = \"GPIB0::19::INSTR\"\n",
    "\n",
    "rm = visa.ResourceManager()\n",
    "fft = set_fftconnect(fftkey)\n",
    "fft.write(\"INP1:COUP AC\")\n",
    "fft.write(\"INST:NSEL 3\")\n",
    "fft.write(\"CALC1:FEED 'XFR:POW:PSD 1'\")\n",
    "fft.write(\"CALC1:UNIT:POW Vrms/rtHz\")\n",
    "fft.write(\"SENS:FEED 'INPUT'\")\n",
    "fft.write(\"SENS:SWE1:POIN 1601\")\n",
    "fft.write(\"SENS:SWE1:MODE AUTO\")\n",
    "fft.write(\"CAL:AUTO OFF\")\n",
    "fft.write(\"CAL:ZERO:AUTO ONCE\")\n",
    "time.sleep(7)\n",
    "fft.write(\"ABOR\")\n",
    "fft.close()\n",
    "rm.close()"
   ]
  },
  {
   "cell_type": "code",
   "execution_count": null,
   "metadata": {},
   "outputs": [
    {
     "name": "stdout",
     "output_type": "stream",
     "text": [
      "Working on 100 to 1000 Hz\n",
      "\tGetting PSD Averaging 10: 0 2 4 6 9 Recvd PSD: X: (1601, 1), Y: (1601, 1) Shape of temp (1601, 2)\n",
      "Working on 1000 to 10000 Hz\n",
      "\tGetting PSD Averaging 10: 0 Recvd PSD: X: (1601, 1), Y: (1601, 1) Shape of temp (1601, 2)\n",
      "Working on 10000 to 100000 Hz\n",
      "\tGetting PSD Averaging 10: 0 Recvd PSD: X: (1601, 1), Y: (1601, 1) Shape of temp (1601, 2)\n",
      "Working on 100000 to 1000000 Hz\n",
      "\tGetting PSD Averaging 10: 0 Recvd PSD: X: (1601, 1), Y: (1601, 1) Shape of temp (1601, 2)\n",
      "Working on 1000000 to 10000000 Hz\n",
      "\tGetting PSD Averaging 10: 0 Recvd PSD: X: (1601, 1), Y: (1601, 1) Shape of temp (1601, 2)\n",
      "Data saved to plotdata2.txt\n",
      "Working on 100 to 1000 Hz\n",
      "\tGetting PSD Averaging 10: 0 2 4 6 9 Recvd PSD: X: (1601, 1), Y: (1601, 1) Shape of temp (1601, 2)\n",
      "Working on 1000 to 10000 Hz\n",
      "\tGetting PSD Averaging 10: 0 Recvd PSD: X: (1601, 1), Y: (1601, 1) Shape of temp (1601, 2)\n",
      "Working on 10000 to 100000 Hz\n",
      "\tGetting PSD Averaging 10: 0 Recvd PSD: X: (1601, 1), Y: (1601, 1) Shape of temp (1601, 2)\n",
      "Working on 100000 to 1000000 Hz\n",
      "\tGetting PSD Averaging 10: 0 Recvd PSD: X: (1601, 1), Y: (1601, 1) Shape of temp (1601, 2)\n",
      "Working on 1000000 to 10000000 Hz\n",
      "\tGetting PSD Averaging 10: 0 Recvd PSD: X: (1601, 1), Y: (1601, 1) Shape of temp (1601, 2)\n",
      "Data saved to plotdata3.txt\n"
     ]
    }
   ],
   "source": [
    "#Data Collection\n",
    "\n",
    "# These 3 variables are used to set the frequency range of the spectrum analyzer and the number of averages (change as needed)\n",
    "n_avgs = 10\n",
    "decades_min = 2\n",
    "decades = 7\n",
    "\n",
    "while current_plot <= plots:\n",
    "    rm = visa.ResourceManager()\n",
    "    fft = set_fftconnect(fftkey)\n",
    "\n",
    "    output = np.zeros((0,2))\n",
    "\n",
    "    for j in range(decades_min, decades):\n",
    "        #set max freq\n",
    "        maxfreq = 10**(j + 1)\n",
    "        minfreq = 10**j\n",
    "        print(f\"Working on {minfreq} to {maxfreq} Hz\")\n",
    "        fft.write(\"SENS:FREQUENCY:START \" + str(minfreq))\n",
    "        fft.write(\"SENS:FREQUENCY:STOP \"  + str(maxfreq))\n",
    "        fft.write('SENS:AVER:STATE OFF')\n",
    "        time.sleep(1)\n",
    "        fft.write('SENS:AVER:STATE ON')\n",
    "        print(f\"\\tGetting PSD\", end=' ')\n",
    "        temp = fft_getPSD(fft)\n",
    "        print(\"Shape of temp\", np.shape(temp))\n",
    "        if not 0 in np.shape(temp):\n",
    "            output = np.append(output, temp, axis = 0)\n",
    "    fft.write(\"ABOR\")\n",
    "\n",
    "\n",
    "    fft.close()\n",
    "    rm.close()\n",
    "\n",
    "    # Save the data to a file\n",
    "    current_plot += 1\n",
    "    output.tofile(\"plotdata\" + str(current_plot) + \".txt\")\n",
    "    print(\"Data saved to plotdata\" + str(current_plot) + \".txt\")\n",
    "\n",
    "    # Wait for the user to press enter before continuing\n",
    "    input(\"Press Enter to continue...\")\n",
    "\n",
    "\n",
    "current_plot -= 1"
   ]
  },
  {
   "cell_type": "markdown",
   "metadata": {},
   "source": [
    "## Plot Data"
   ]
  },
  {
   "cell_type": "code",
   "execution_count": null,
   "metadata": {},
   "outputs": [
    {
     "ename": "FileNotFoundError",
     "evalue": "[Errno 2] No such file or directory: 'plotdata3.txt'",
     "output_type": "error",
     "traceback": [
      "\u001b[1;31m---------------------------------------------------------------------------\u001b[0m",
      "\u001b[1;31mFileNotFoundError\u001b[0m                         Traceback (most recent call last)",
      "Cell \u001b[1;32mIn[7], line 10\u001b[0m\n\u001b[0;32m      7\u001b[0m ax2\u001b[38;5;241m.\u001b[39mset(ylabel\u001b[38;5;241m=\u001b[39m\u001b[38;5;124m'\u001b[39m\u001b[38;5;124mPSD (dB)\u001b[39m\u001b[38;5;124m'\u001b[39m)\n\u001b[0;32m      9\u001b[0m \u001b[38;5;28;01mwhile\u001b[39;00m current_plot \u001b[38;5;241m>\u001b[39m\u001b[38;5;241m=\u001b[39m \u001b[38;5;241m1\u001b[39m:\n\u001b[1;32m---> 10\u001b[0m     output \u001b[38;5;241m=\u001b[39m np\u001b[38;5;241m.\u001b[39mfromfile(\u001b[38;5;124m\"\u001b[39m\u001b[38;5;124mplotdata\u001b[39m\u001b[38;5;124m\"\u001b[39m \u001b[38;5;241m+\u001b[39m \u001b[38;5;28mstr\u001b[39m(current_plot) \u001b[38;5;241m+\u001b[39m \u001b[38;5;124m\"\u001b[39m\u001b[38;5;124m.txt\u001b[39m\u001b[38;5;124m\"\u001b[39m)\n\u001b[0;32m     11\u001b[0m     plt\u001b[38;5;241m.\u001b[39mloglog(output[:,\u001b[38;5;241m0\u001b[39m],output[:,\u001b[38;5;241m1\u001b[39m], label\u001b[38;5;241m=\u001b[39m\u001b[38;5;124m\"\u001b[39m\u001b[38;5;124mPlot \u001b[39m\u001b[38;5;124m\"\u001b[39m \u001b[38;5;241m+\u001b[39m \u001b[38;5;28mstr\u001b[39m(current_plot))\n\u001b[0;32m     12\u001b[0m     ax2\u001b[38;5;241m.\u001b[39msemilogx(output[:,\u001b[38;5;241m0\u001b[39m],\u001b[38;5;241m10\u001b[39m\u001b[38;5;241m*\u001b[39mnp\u001b[38;5;241m.\u001b[39mlog10(output[:,\u001b[38;5;241m1\u001b[39m]\u001b[38;5;241m*\u001b[39m\u001b[38;5;241m*\u001b[39m\u001b[38;5;241m2\u001b[39m), label\u001b[38;5;241m=\u001b[39m\u001b[38;5;124m\"\u001b[39m\u001b[38;5;124mPlot \u001b[39m\u001b[38;5;124m\"\u001b[39m \u001b[38;5;241m+\u001b[39m \u001b[38;5;28mstr\u001b[39m(current_plot))\n",
      "\u001b[1;31mFileNotFoundError\u001b[0m: [Errno 2] No such file or directory: 'plotdata3.txt'"
     ]
    },
    {
     "data": {
      "image/png": "[encoded data removed]",
      "text/plain": [
       "<Figure size 1500x500 with 2 Axes>"
      ]
     },
     "metadata": {},
     "output_type": "display_data"
    }
   ],
   "source": [
    "#Graphing\n",
    "fig, ax = plt.subplots(figsize=[15, 5])\n",
    "plt.grid()\n",
    "plt.grid(which='minor', linestyle=':', linewidth='0.5', color='black')\n",
    "ax.set(ylabel='PSD (Vrms/rt. Hz)')\n",
    "ax2 = ax.twinx()\n",
    "ax2.set(ylabel='PSD (dB)')\n",
    "\n",
    "\n",
    "while current_plot >= 1:\n",
    "    output = np.fromfile(\"plotdata\" + str(current_plot) + \".txt\")\n",
    "    plt.loglog(output[:,0],output[:,1], label=\"Plot \" + str(current_plot))\n",
    "    ax2.semilogx(output[:,0],10*np.log10(output[:,1]**2), label=\"Plot \" + str(current_plot))\n",
    "    current_plot -= 1\n",
    "\n",
    "plt.show()"
   ]
  }
 ],
 "metadata": {
  "kernelspec": {
   "display_name": "base",
   "language": "python",
   "name": "python3"
  },
  "language_info": {
   "codemirror_mode": {
    "name": "ipython",
    "version": 3
   },
   "file_extension": ".py",
   "mimetype": "text/x-python",
   "name": "python",
   "nbconvert_exporter": "python",
   "pygments_lexer": "ipython3",
   "version": "3.12.7"
  },
  "orig_nbformat": 4
 },
 "nbformat": 4,
 "nbformat_minor": 2
}
