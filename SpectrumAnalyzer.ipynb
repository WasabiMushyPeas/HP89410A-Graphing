{
 "cells": [
  {
   "cell_type": "markdown",
   "metadata": {},
   "source": [
    "# Multi Plot Data Collection from HP 89410A Spectrum Analyzer"
   ]
  },
  {
   "cell_type": "markdown",
   "metadata": {},
   "source": [
    "## Imports"
   ]
  },
  {
   "cell_type": "code",
   "execution_count": null,
   "metadata": {},
   "outputs": [],
   "source": [
    "import numpy as np\n",
    "import matplotlib.pyplot as plt\n",
    "import pyvisa as visa\n",
    "import struct \n",
    "import re\n",
    "import time\n",
    "import os"
   ]
  },
  {
   "cell_type": "markdown",
   "metadata": {},
   "source": [
    "## Setup Directories"
   ]
  },
  {
   "cell_type": "code",
   "execution_count": null,
   "metadata": {},
   "outputs": [],
   "source": [
    "# Make sure the directory ./data exists\n",
    "if not os.path.exists(\"data\"):\n",
    "    os.makedirs(\"data\")\n",
    "\n",
    "# Delete all files in the directory ./data comment this line if you want to keep the files\n",
    "# filelist = [ f for f in os.listdir(\"./data\") if f.endswith(\".txt\") ]\n",
    "# for f in filelist:\n",
    "#     os.remove(os.path.join(\"./data\", f))"
   ]
  },
  {
   "cell_type": "markdown",
   "metadata": {},
   "source": [
    "## Get Address"
   ]
  },
  {
   "cell_type": "code",
   "execution_count": null,
   "metadata": {},
   "outputs": [],
   "source": [
    "# This will list the address of the spectrum analyzer if it is connected to the computer\n",
    "visa.ResourceManager().list_resources() "
   ]
  },
  {
   "cell_type": "markdown",
   "metadata": {},
   "source": [
    "## Variables"
   ]
  },
  {
   "cell_type": "code",
   "execution_count": null,
   "metadata": {},
   "outputs": [],
   "source": [
    "# This determines the number of plots that will be taken (change as needed)\n",
    "plots = 3;\n",
    "# This determines the number of averages that will be taken (change as needed)\n",
    "n_avgs = 10\n",
    "# These determine the frequency range that will be plotted (change as needed)\n",
    "decades_min = 2\n",
    "decades = 7\n",
    "# These determine the size of the graph (change as needed)\n",
    "graphHeight = 10\n",
    "graphWidth = 15\n"
   ]
  },
  {
   "cell_type": "markdown",
   "metadata": {},
   "source": [
    "## Functions"
   ]
  },
  {
   "cell_type": "code",
   "execution_count": null,
   "metadata": {},
   "outputs": [],
   "source": [
    "#Function to Open connection\n",
    "def set_fftconnect(key):\n",
    "    rm = visa.ResourceManager()\n",
    "    conn = rm.open_resource(key)\n",
    "    conn.write_termination = chr(10)\n",
    "    return conn\n",
    "\n",
    "#byte reader function\n",
    "def fft_byte_reader(arr):\n",
    "    temp1 = re.findall(b'#[0-9]', arr)\n",
    "    offset = int(temp1[0][1:])\n",
    "    split_result = re.split(b'#[0-9]', arr, maxsplit = 1)[1]\n",
    "    data = split_result[offset:-1]\n",
    "    i = 1\n",
    "    ret = []\n",
    "    while i <= (len(data)/4):   \n",
    "        fval = struct.unpack('>f', data[4*(i-1):(4*i)])\n",
    "        ret.append(fval)\n",
    "        i += 1\n",
    "    return ret    \n",
    "\n",
    "#byte reader function\n",
    "def fft_byte_reader2(arr):\n",
    "    temp1 = re.findall('#[0-9]', arr)\n",
    "    offset = int(temp1[0][1:])\n",
    "    split_result = re.split('#[0-9]', arr)[1]\n",
    "    data = split_result[offset:-1]\n",
    "    i = 1\n",
    "    ret = []\n",
    "    while i <= (len(data)/4):   \n",
    "        fval = struct.unpack('>f', data[4*(i-1):(4*i)])\n",
    "        ret.append(fval)\n",
    "        i += 1\n",
    "    return ret   \n",
    "\n",
    "#Function to Get RF Range\n",
    "def fft_set_range(conn, cent, span):\n",
    "    conn.write(\"SENS:FREQ:CENT \"+cent)\n",
    "    conn.write(\"SENS:FREQ:SPAN \"+span)\n",
    "\n",
    "#function To Get PSD\n",
    "def fft_getPSD(conn):\n",
    "    conn.write(\"CONT\")    \n",
    "    print(f\"Averaging {n_avgs}:\", end=' ')\n",
    "    while fft.query_ascii_values('SENS:AVER:COUNT:INT?')[0] < n_avgs:\n",
    "        print(f\"{fft.query_ascii_values('SENS:AVER:COUNT:INT?')[0]:.0f}\", end=' ')\n",
    "        time.sleep(3)\n",
    "    conn.write(\";:FORM REAL, 32;:CALC1:DATA?\")\n",
    "    rv = conn.read_raw()\n",
    "    yaxis = fft_byte_reader(rv)\n",
    "    conn.write(\";:FORM ASC, 10\")\n",
    "    conn.write(\";:FORM REAL, 32;:TRAC:X? TRAC1\")\n",
    "    rx = conn.read_raw()\n",
    "    xaxis = fft_byte_reader(rx)\n",
    "    conn.write(\";:FORM ASC, 10\")\n",
    "    \n",
    "    if len(xaxis) == 2049:\n",
    "        xaxis=xaxis[0:1601]\n",
    "    else:\n",
    "        xaxis = xaxis[224:1825]\n",
    "    \n",
    "    t1 = np.matrix(xaxis)\n",
    "    t2 = np.matrix(yaxis)\n",
    "    print(f\"Recvd PSD: X: {np.shape(t1)}, Y: {np.shape(t2)}\", end=' ')\n",
    "    t1 = t1.flatten()\n",
    "    t1 = t1.transpose()\n",
    "    t2 = t2.flatten() \n",
    "    t2 = t2.transpose()\n",
    "    vals = np.array(np.hstack((t1,t2)))\n",
    "    return vals"
   ]
  },
  {
   "cell_type": "markdown",
   "metadata": {},
   "source": [
    "## Initialize the spectrum analyzer"
   ]
  },
  {
   "cell_type": "code",
   "execution_count": null,
   "metadata": {},
   "outputs": [],
   "source": [
    "# This is the address of the spectrum analyzer (you my need to change this)\n",
    "fftkey = \"GPIB0::19::INSTR\"\n",
    "\n",
    "rm = visa.ResourceManager()\n",
    "fft = set_fftconnect(fftkey)\n",
    "fft.write(\"INP1:COUP AC\")\n",
    "fft.write(\"INST:NSEL 3\")\n",
    "fft.write(\"CALC1:FEED 'XFR:POW:PSD 1'\")\n",
    "fft.write(\"CALC1:UNIT:POW Vrms/rtHz\")\n",
    "fft.write(\"SENS:FEED 'INPUT'\")\n",
    "fft.write(\"SENS:SWE1:POIN 1601\")\n",
    "fft.write(\"SENS:SWE1:MODE AUTO\")\n",
    "fft.write(\"CAL:AUTO OFF\")\n",
    "fft.write(\"CAL:ZERO:AUTO ONCE\")\n",
    "time.sleep(7)\n",
    "fft.write(\"ABOR\")\n",
    "fft.close()\n",
    "rm.close()"
   ]
  },
  {
   "cell_type": "markdown",
   "metadata": {},
   "source": [
    "## Data Collection"
   ]
  },
  {
   "cell_type": "code",
   "execution_count": null,
   "metadata": {},
   "outputs": [],
   "source": [
    "rm = visa.ResourceManager()\n",
    "fft = set_fftconnect(fftkey)\n",
    "\n",
    "current_plot = 1;\n",
    "\n",
    "while current_plot <= plots:\n",
    "\n",
    "    plotName = input(\"Enter the name of the plot (can't contain &): \")\n",
    "    plotName = plotName.replace(\"&\", \"\")\n",
    "    plotName = plotName.replace(\" \", \"_\")\n",
    "    print(\"----------- Plot \" + str(current_plot) + \"/\" + str(plots) + \" -----------\")\n",
    "\n",
    "\n",
    "\n",
    "    output = np.zeros((0,2))\n",
    "\n",
    "    for j in range(decades_min, decades):\n",
    "        #set max freq\n",
    "        maxfreq = 10**(j + 1)\n",
    "        minfreq = 10**j\n",
    "        print(f\"Working on {minfreq} to {maxfreq} Hz\")\n",
    "        fft.write(\"SENS:FREQUENCY:START \" + str(minfreq))\n",
    "        fft.write(\"SENS:FREQUENCY:STOP \"  + str(maxfreq))\n",
    "        fft.write('SENS:AVER:STATE OFF')\n",
    "        time.sleep(1)\n",
    "        fft.write('SENS:AVER:STATE ON')\n",
    "        print(f\"\\tGetting PSD\", end=' ')\n",
    "        temp = fft_getPSD(fft)\n",
    "        print(\"Shape of temp\", np.shape(temp))\n",
    "        if not 0 in np.shape(temp):\n",
    "            output = np.append(output, temp, axis = 0)\n",
    "    fft.write(\"ABOR\")\n",
    "\n",
    "\n",
    "\n",
    "\n",
    "    # Save the data to a file\n",
    "    output.tofile(\"./data/\" + str(current_plot) + \"&\" + str(plotName) + \".txt\")\n",
    "    print(\"Data saved to ./data/\" + str(current_plot) + \"&\" + str(plotName) + \".txt\")\n",
    "    current_plot += 1\n",
    "\n",
    "current_plot = plots\n",
    "\n",
    "\n",
    "fft.close()\n",
    "rm.close()\n"
   ]
  },
  {
   "cell_type": "markdown",
   "metadata": {},
   "source": [
    "## Plot Data"
   ]
  },
  {
   "cell_type": "code",
   "execution_count": null,
   "metadata": {},
   "outputs": [],
   "source": [
    "# Create an array of all the data files by reading the directory ./data\n",
    "\n",
    "files = {}\n",
    "for file in os.listdir(\"./data\"):\n",
    "    if file.endswith(\".txt\"):\n",
    "        if \"&\" in file:\n",
    "            files[int(file.split(\"&\")[0])] = file\n",
    "\n",
    "#Graphing\n",
    "fig, ax = plt.subplots(figsize=[graphWidth, graphHeight])\n",
    "plt.grid()\n",
    "plt.grid(which='minor', linestyle=':', linewidth='0.5', color='black')\n",
    "ax.set(ylabel='PSD (Vrms/rt. Hz)', xlabel='Frequency (Hz)')\n",
    "ax2 = ax.twinx()\n",
    "ax2.set(ylabel='PSD (dB)')\n",
    "\n",
    "\n",
    "\n",
    "for file in files:\n",
    "    output = np.fromfile(\"./data/\"+files[file])\n",
    "    output = output.reshape(int(len(output)/2), 2)\n",
    "    currentFileName=files[file].split(\"&\")[1].split(\".\")[0].replace(\"_\", \" \")\n",
    "    if \"Noise Floor\" in currentFileName or \"Seed\" in currentFileName:\n",
    "        plt.loglog(output[:,0],output[:,1], alpha=0.4 , label=currentFileName)\n",
    "    else:\n",
    "        plt.loglog(output[:,0],output[:,1], label=currentFileName)\n",
    "    plt.legend()\n",
    "    current_plot -= 1\n",
    "\n",
    "plt.show()\n"
   ]
  }
 ],
 "metadata": {
  "kernelspec": {
   "display_name": "base",
   "language": "python",
   "name": "python3"
  },
  "language_info": {
   "codemirror_mode": {
    "name": "ipython",
    "version": 3
   },
   "file_extension": ".py",
   "mimetype": "text/x-python",
   "name": "python",
   "nbconvert_exporter": "python",
   "pygments_lexer": "ipython3",
   "version": "3.12.7"
  },
  "orig_nbformat": 4
 },
 "nbformat": 4,
 "nbformat_minor": 2
}
